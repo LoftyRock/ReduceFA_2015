{
 "cells": [
  {
   "cell_type": "code",
   "execution_count": 7,
   "metadata": {
    "collapsed": false
   },
   "outputs": [
    {
     "data": {
      "text/plain": [
       "==> Processing options\t\n"
      ]
     },
     "execution_count": 7,
     "metadata": {},
     "output_type": "execute_result"
    }
   ],
   "source": [
    "require 'torch'\n",
    "require 'optim'\n",
    "\n",
    "print '==> Processing options'\n",
    "\n",
    "cmd = torch.CmdLine()\n",
    "cmd:text()\n",
    "cmd:text('Reducing False Alarms using CNNs')\n",
    "cmd:text()\n",
    "cmd:text('Options:')\n",
    "-- Data: 'chal', 'mimic+chal_all', 'mimic+chal_small'\n",
    "cmd:option('-datatype', 'chal')\n",
    "-- Model\n",
    "cmd:option('-nTarget', 2)\n",
    "cmd:option('-nInputFeature', 1)\n",
    "cmd:option('-inputSize', 2500) -- 250Hz * 10sec\n",
    "--- For convolutional networks\n",
    "cmd:option('-convlayer_num', 3)\n",
    "cmd:option('-nFeatures_c', 75)\n",
    "--- For MLP\n",
    "cmd:option('-mlplayer_num', 2)\n",
    "cmd:option('-nUnit_mlp', 500)\n",
    "-- Experiment Setting\n",
    "cmd:option('-dbseed', 1)\n",
    "cmd:option('-weightseed', 1)\n",
    "cmd:option('-batchsize', 10)\n",
    "cmd:option('-nFold', 5)\n",
    "cmd:option('-maxIter', 300)\n",
    "cmd:option('-lr_sup', 0.001, 'Learning rate')\n",
    "cmd:option('-lrdecay',1e-5, 'Learning rate decay')\n",
    "cmd:option('-momentum', 0)\n",
    "cmd:option('-dropout_rate', 0.5)\n",
    "cmd:option('-pretraining', false)\n",
    "-- Conv Setting\n",
    "cmd:option('-kernel', 25)\n",
    "cmd:option('-pool', 5)\n",
    "-- Torch Setting\n",
    "cmd:option('-thread', 16)\n",
    "-- File name\n",
    "cmd:option('-foldername', '/home/heehwan/Workspace/Data/ReduceFA_2015/cnn_output/weirdmimic/')\n",
    "cmd:option('-filename', 'experiment_01/' .. 'itorch_test')\n",
    "\n",
    "cmd:text()\n",
    "option = cmd:parse(arg or {})\n",
    "\n",
    "torch.setnumthreads(option.thread)"
   ]
  },
  {
   "cell_type": "code",
   "execution_count": 8,
   "metadata": {
    "collapsed": false
   },
   "outputs": [
    {
     "data": {
      "text/plain": [
       "==> Load datasets\t\n"
      ]
     },
     "execution_count": 8,
     "metadata": {},
     "output_type": "execute_result"
    }
   ],
   "source": [
    "require 'getLearningData'\n",
    "nTraining, trainset_input, trainset_target, nTesting, testset_input, testset_target = getLearningData(option)"
   ]
  },
  {
   "cell_type": "code",
   "execution_count": 9,
   "metadata": {
    "collapsed": false
   },
   "outputs": [
    {
     "data": {
      "text/plain": [
       "==> Construct CNN model\t\n"
      ]
     },
     "execution_count": 9,
     "metadata": {},
     "output_type": "execute_result"
    },
    {
     "data": {
      "text/plain": [
       "nn.Sequential {\n",
       "  [input -> (1) -> (2) -> (3) -> (4) -> (5) -> (6) -> (7) -> (8) -> (9) -> (10) -> (11) -> (12) -> (13) -> (14) -> (15) -> (16) -> (17) -> (18) -> output]\n",
       "  (1): nn.SpatialConvolutionMM(1 -> 75, 1x25)\n",
       "  (2): nn.ReLU\n",
       "  (3): nn.SpatialMaxPooling(1,5,1,5)\n",
       "  (4): nn.SpatialConvolutionMM(75 -> 75, 1x25)\n",
       "  (5): nn.ReLU\n",
       "  (6): nn.SpatialMaxPooling(1,5,1,5)\n",
       "  (7): nn.SpatialConvolutionMM(75 -> 75, 1x25)\n",
       "  (8): nn.ReLU\n",
       "  (9): nn.SpatialMaxPooling(1,5,1,5)\n",
       "  (10): nn.Reshape(1050)\n",
       "  (11): nn.Linear(1050 -> 500)\n",
       "  (12): nn.ReLU\n",
       "  (13): nn.Dropout(0.500000)\n",
       "  (14): nn.Linear(500 -> 500)\n",
       "  (15): nn.ReLU\n",
       "  (16): nn.Dropout(0.500000)\n",
       "  (17): nn.Linear(500 -> 2)\n",
       "  (18): nn.LogSoftMax\n",
       "}\n",
       "{\n",
       "  gradInput : CudaTensor - empty\n",
       "  modules : \n",
       "    {\n",
       "      1 : \n",
       "        nn.SpatialConvolutionMM(1 -> 75, 1x25)\n",
       "        {\n",
       "          dH : 1\n",
       "          dW : 1\n",
       "          nOutputPlane : 75\n",
       "          output : CudaTensor - empty\n",
       "          gradInput : CudaTensor - empty\n",
       "          fgradInput : CudaTensor - empty\n",
       "          finput : CudaTensor - empty\n",
       "          gradBias : CudaTensor - size: 75\n",
       "          padH : 0\n",
       "          weight : CudaTensor - size: 75x25\n",
       "          bias : CudaTensor - size: 75\n",
       "          gradWeight : CudaTensor - size: 75x25\n",
       "          padW : 0\n",
       "          nInputPlane : 1\n",
       "          kW : 1\n",
       "          kH : 25\n",
       "        }\n",
       "      2 : \n",
       "        nn.ReLU\n",
       "        {\n",
       "          inplace : false\n",
       "          threshold : 0\n",
       "          val : 0\n",
       "          output : CudaTensor - empty\n",
       "          gradInput : CudaTensor - empty\n",
       "        }\n",
       "      3 : \n",
       "        nn.SpatialMaxPooling(1,5,1,5)\n",
       "        {\n",
       "          dH : 5\n",
       "          dW : 1\n",
       "          padH : 0\n",
       "          gradInput : CudaTensor - empty\n",
       "          indices : CudaTensor - empty\n",
       "          kH : 5\n",
       "          ceil_mode : false\n",
       "          output : CudaTensor - empty\n",
       "          padW : 0\n",
       "          kW : 1\n",
       "        }\n",
       "      4 : \n",
       "        nn.SpatialConvolutionMM(75 -> 75, 1x25)\n",
       "        {\n",
       "          dH : 1\n",
       "          dW : 1\n",
       "          nOutputPlane : 75\n",
       "          output : CudaTensor - empty\n",
       "          gradInput : CudaTensor - empty\n",
       "          "
      ]
     },
     "execution_count": 9,
     "metadata": {},
     "output_type": "execute_result"
    },
    {
     "data": {
      "text/plain": [
       "fgradInput : CudaTensor - empty\n",
       "          finput : CudaTensor - empty\n",
       "          gradBias : CudaTensor - size: 75\n",
       "          padH : 0\n",
       "          weight : CudaTensor - size: 75x1875\n",
       "          bias : CudaTensor - size: 75\n",
       "          gradWeight : CudaTensor - size: 75x1875\n",
       "          padW : 0\n",
       "          nInputPlane : 75\n",
       "          kW : 1\n",
       "          kH : 25\n",
       "        }\n",
       "      5 : \n",
       "        nn.ReLU\n",
       "        {\n",
       "          inplace : false\n",
       "          threshold : 0\n",
       "          val : 0\n",
       "          output : CudaTensor - empty\n",
       "          gradInput : CudaTensor - empty\n",
       "        }\n",
       "      6 : \n",
       "        nn.SpatialMaxPooling(1,5,1,5)\n",
       "        {\n",
       "          dH : 5\n",
       "          dW : 1\n",
       "          padH : 0\n",
       "          gradInput : CudaTensor - empty\n",
       "          indices : CudaTensor - empty\n",
       "          kH : 5\n",
       "          ceil_mode : false\n",
       "          output : CudaTensor - empty\n",
       "          padW : 0\n",
       "          kW : 1\n",
       "        }\n",
       "      7 : \n",
       "        nn.SpatialConvolutionMM(75 -> 75, 1x25)\n",
       "        {\n",
       "          dH : 1\n",
       "          dW : 1\n",
       "          nOutputPlane : 75\n",
       "          output : CudaTensor - empty\n",
       "          gradInput : CudaTensor - empty\n",
       "          fgradInput : CudaTensor - empty\n",
       "          finput : CudaTensor - empty\n",
       "          gradBias : CudaTensor - size: 75\n",
       "          padH : 0\n",
       "          weight : CudaTensor - size: 75x1875\n",
       "          bias : CudaTensor - size: 75\n",
       "          gradWeight : CudaTensor - size: 75x1875\n",
       "          padW : 0\n",
       "          nInputPlane : 75\n",
       "          kW : 1\n",
       "          kH : 25\n",
       "        }\n",
       "      8 : \n",
       "        nn.ReLU\n",
       "        {\n",
       "          inplace : false\n",
       "          threshold : 0\n",
       "          val : 0\n",
       "          output : CudaTensor - empty\n",
       "          gradInput : CudaTensor - empty\n",
       "        }\n",
       "      9 : \n",
       "        nn.SpatialMaxPooling(1,5,1,5)\n",
       "        {\n",
       "          dH : 5\n",
       "          dW : 1\n",
       "          padH : 0\n",
       "          gradInput : CudaTensor - empty\n",
       "          indices : CudaTensor - empty\n",
       "          kH : 5\n",
       "          ceil_mode : false\n",
       "          output : CudaTensor - empty\n",
       "          padW : 0\n",
       "          kW : 1\n",
       "        }\n",
       "      10 : \n",
       "        nn.Reshape(1050)\n",
       "        {\n",
       "          nelement : 1050\n",
       "          _input : CudaTensor - empty\n",
       "          output : CudaTensor - empty\n",
       "          gradInput : CudaTensor - empty\n",
       "          size : LongStorage - size: 1\n",
       "          _gradOutput : CudaTensor - empty\n",
       "          batchsize : LongStorage - size: 2\n",
       "        }\n",
       "      11 : \n",
       "        nn.Linear(1050 -> 500)\n",
       "        {\n",
       "          gradBias : CudaTensor - size: 500\n",
       "          weight : CudaTensor - size: 500x1050\n",
       "          bias : CudaTensor - size: 500\n",
       "          gradInput : CudaTensor - empty\n",
       "          gradWeight : CudaTensor - size: 500x1050\n",
       "          output : CudaTensor - empty\n",
       "        }\n",
       "      12 : \n",
       "        nn.ReLU\n",
       "        {\n",
       "          inplace : false\n",
       " "
      ]
     },
     "execution_count": 9,
     "metadata": {},
     "output_type": "execute_result"
    },
    {
     "data": {
      "text/plain": [
       "         threshold : 0\n",
       "          val : 0\n",
       "          output : CudaTensor - empty\n",
       "          gradInput : CudaTensor - empty\n",
       "        }\n",
       "      13 : \n",
       "        nn.Dropout(0.500000)\n",
       "        {\n",
       "          v2 : true\n",
       "          noise : CudaTensor - empty\n",
       "          train : true\n",
       "          p : 0.5\n",
       "          gradInput : CudaTensor - empty\n",
       "          output : CudaTensor - empty\n",
       "        }\n",
       "      14 : \n",
       "        nn.Linear(500 -> 500)\n",
       "        {\n",
       "          gradBias : CudaTensor - size: 500\n",
       "          weight : CudaTensor - size: 500x500\n",
       "          bias : CudaTensor - size: 500\n",
       "          gradInput : CudaTensor - empty\n",
       "          gradWeight : CudaTensor - size: 500x500\n",
       "          output : CudaTensor - empty\n",
       "        }\n",
       "      15 : \n",
       "        nn.ReLU\n",
       "        {\n",
       "          inplace : false\n",
       "          threshold : 0\n",
       "          val : 0\n",
       "          output : CudaTensor - empty\n",
       "          gradInput : CudaTensor - empty\n",
       "        }\n",
       "      16 : \n",
       "        nn.Dropout(0.500000)\n",
       "        {\n",
       "          v2 : true\n",
       "          noise : CudaTensor - empty\n",
       "          train : true\n",
       "          p : 0.5\n",
       "          gradInput : CudaTensor - empty\n",
       "          output : CudaTensor - empty\n",
       "        }\n",
       "      17 : \n",
       "        nn.Linear(500 -> 2)\n",
       "        {\n",
       "          gradBias : CudaTensor - size: 2\n",
       "          weight : CudaTensor - size: 2x500\n",
       "          bias : CudaTensor - size: 2\n",
       "          gradInput : CudaTensor - empty\n",
       "          gradWeight : CudaTensor - size: 2x500\n",
       "          output : CudaTensor - empty\n",
       "        }\n",
       "      18 : \n",
       "        nn.LogSoftMax\n",
       "        {\n",
       "          gradInput : CudaTensor - empty\n",
       "          output : CudaTensor - empty\n",
       "        }\n",
       "    }\n",
       "  output : CudaTensor - empty\n",
       "}\n"
      ]
     },
     "execution_count": 9,
     "metadata": {},
     "output_type": "execute_result"
    }
   ],
   "source": [
    "require 'buildCNNModel'\n",
    "model = buildCNNModel(option)"
   ]
  },
  {
   "cell_type": "code",
   "execution_count": 10,
   "metadata": {
    "collapsed": false
   },
   "outputs": [
    {
     "data": {
      "text/plain": [
       "==> Defining loss\t\n"
      ]
     },
     "execution_count": 10,
     "metadata": {},
     "output_type": "execute_result"
    },
    {
     "data": {
      "text/plain": [
       "==> Defining some tools\t\n",
       "==> configuring optimizer\t\n",
       "==> Defining training procedure\t\n"
      ]
     },
     "execution_count": 10,
     "metadata": {},
     "output_type": "execute_result"
    }
   ],
   "source": [
    "print '==> Defining loss'\n",
    "\n",
    "criterion = nn.ClassNLLCriterion()\n",
    "criterion:cuda()\n",
    "----------------------------------------------------------------------\n",
    "print '==> Defining some tools'\n",
    "\n",
    "classes = {'False Alarm','True Alarm'}\n",
    "confusion = optim.ConfusionMatrix(classes)\n",
    "----------------------------------------------------------------------\n",
    "print '==> configuring optimizer'\n",
    "\n",
    "optimState = {\n",
    "learningRate = option.lr_sup,\n",
    "weightDecay = 0,\n",
    "momentum = option.momentum,\n",
    "learningRateDecay = option.lrdecay\n",
    "}\n",
    "optimMethod = optim.sgd\n",
    "----------------------------------------------------------------------\n",
    "print '==> Defining training procedure'\n",
    "\n",
    "parameters, gradParameters = model:getParameters()\n",
    "batchsize = option.batchsize\n",
    "\n",
    "train_accu = torch.zeros(option.maxIter, 1)\n",
    "train_err = torch.zeros(option.maxIter, 1)\n",
    "\n",
    "test_accu = torch.zeros(option.maxIter, 1)\n",
    "test_err = torch.zeros(option.maxIter, 1)\n",
    "test_conf = torch.zeros(option.maxIter, 4)\n",
    "\n",
    "Maxiter = option.maxIter"
   ]
  },
  {
   "cell_type": "code",
   "execution_count": 14,
   "metadata": {
    "collapsed": true
   },
   "outputs": [],
   "source": [
    "m = model.modules[1]"
   ]
  },
  {
   "cell_type": "code",
   "execution_count": 15,
   "metadata": {
    "collapsed": false
   },
   "outputs": [
    {
     "data": {
      "image/png": "[encoded data removed]",
      "text/plain": [
       "Console does not support images"
      ]
     },
     "metadata": {
      "image/png": {
       "height": 75,
       "width": 25
      }
     },
     "output_type": "display_data"
    },
    {
     "data": {
      "text/plain": [
       "\n"
      ]
     },
     "execution_count": 15,
     "metadata": {},
     "output_type": "execute_result"
    }
   ],
   "source": [
    "itorch.image(m.weight)"
   ]
  },
  {
   "cell_type": "code",
   "execution_count": null,
   "metadata": {
    "collapsed": true
   },
   "outputs": [],
   "source": [
    "print '==> Start training'\n",
    "\n",
    "require 'training_cnn'\n",
    "require 'testing_cnn'\n",
    "iter = 1\n",
    "while iter <= Maxiter do\n",
    "train()\n",
    "test()\n",
    "m = model.modules[1]\n",
    "itorch.image(m.weight)\n",
    "iter = iter + 1\n",
    "end"
   ]
  }
 ],
 "metadata": {
  "kernelspec": {
   "display_name": "iTorch",
   "language": "lua",
   "name": "itorch"
  },
  "language_info": {
   "name": "lua",
   "version": "20100"
  }
 },
 "nbformat": 4,
 "nbformat_minor": 0
}
